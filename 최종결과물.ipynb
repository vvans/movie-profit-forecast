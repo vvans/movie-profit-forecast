{
 "cells": [
  {
   "cell_type": "code",
   "execution_count": 1,
   "metadata": {},
   "outputs": [],
   "source": [
    "import pandas as pd\n",
    "from sklearn.model_selection import train_test_split\n",
    "from sklearn.linear_model import LinearRegression\n"
   ]
  },
  {
   "cell_type": "code",
   "execution_count": 2,
   "metadata": {},
   "outputs": [],
   "source": [
    "# Imports data\n",
    "film_data = pd.read_csv(\"movies.csv\", encoding=\"latin-1\")\n"
   ]
  },
  {
   "cell_type": "code",
   "execution_count": 3,
   "metadata": {},
   "outputs": [],
   "source": [
    "# 데이터를 사용 가능하도록 변환\n",
    "def reshape_data(column_name):\n",
    "    new_data = {}\n",
    "    data = list(set(film_data[column_name]))\n",
    "    for i in range(len(data)):\n",
    "        new_data[data[i]] = i\n",
    "    data.clear()\n",
    "    data = [new_data[country] for country in film_data[column_name]]\n",
    "    return data\n"
   ]
  },
  {
   "cell_type": "code",
   "execution_count": 4,
   "metadata": {},
   "outputs": [],
   "source": [
    "#데이터 재형성\n",
    "film_data[\"director\"] = reshape_data(\"director\")\n",
    "film_data[\"genre\"] = reshape_data(\"genre\")\n",
    "film_data[\"rating\"] = reshape_data(\"rating\")\n",
    "film_data[\"star\"] = reshape_data(\"star\")"
   ]
  },
  {
   "cell_type": "code",
   "execution_count": 5,
   "metadata": {},
   "outputs": [],
   "source": [
    "# 데이터 정리\n",
    "profit_factors = film_data[[\"budget\", \"score\", \"year\", \"votes\", \"runtime\", \"genre\", \"rating\", \"director\", \"star\"]]\n",
    "gross_profits = film_data[[\"gross\"]]"
   ]
  },
  {
   "cell_type": "code",
   "execution_count": 27,
   "metadata": {},
   "outputs": [],
   "source": [
    "# training set과 test set으로 분리\n",
    "x_train, x_test, y_train, y_test = train_test_split(\n",
    "    profit_factors, gross_profits, train_size=0.8, test_size=0.2, random_state=6)"
   ]
  },
  {
   "cell_type": "code",
   "execution_count": 41,
   "metadata": {},
   "outputs": [],
   "source": [
    "# 선형 회기 분석 진행\n",
    "mlr = LinearRegression()\n",
    "mlr.fit(x_train, y_train)\n",
    "y_predict = mlr.predict(x_test)"
   ]
  },
  {
   "cell_type": "code",
   "execution_count": 40,
   "metadata": {},
   "outputs": [
    {
     "name": "stdout",
     "output_type": "stream",
     "text": [
      "0.6295739056371261\n",
      "0.6641365854043201\n"
     ]
    }
   ],
   "source": [
    "print(mlr.score(x_train, y_train))\n",
    "print(mlr.score(x_test, y_test))"
   ]
  }
 ],
 "metadata": {
  "kernelspec": {
   "display_name": "Python 3",
   "language": "python",
   "name": "python3"
  },
  "language_info": {
   "codemirror_mode": {
    "name": "ipython",
    "version": 3
   },
   "file_extension": ".py",
   "mimetype": "text/x-python",
   "name": "python",
   "nbconvert_exporter": "python",
   "pygments_lexer": "ipython3",
   "version": "3.8.5"
  }
 },
 "nbformat": 4,
 "nbformat_minor": 4
}
